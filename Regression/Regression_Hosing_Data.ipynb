{
 "cells": [
  {
   "cell_type": "code",
   "execution_count": 87,
   "id": "6b5913e1-5467-4060-b2bc-d0ceb425986f",
   "metadata": {},
   "outputs": [],
   "source": [
    "import numpy as np"
   ]
  },
  {
   "cell_type": "code",
   "execution_count": 88,
   "id": "ecd61771-ec93-472d-8b19-4f511c2da186",
   "metadata": {},
   "outputs": [
    {
     "name": "stdout",
     "output_type": "stream",
     "text": [
      "Columns: ('Id', 'MSSubClass', 'MSZoning', 'LotFrontage', 'LotArea', 'Street', 'Alley', 'LotShape', 'LandContour', 'Utilities', 'LotConfig', 'LandSlope', 'Neighborhood', 'Condition1', 'Condition2', 'BldgType', 'HouseStyle', 'OverallQual', 'OverallCond', 'YearBuilt', 'YearRemodAdd', 'RoofStyle', 'RoofMatl', 'Exterior1st', 'Exterior2nd', 'MasVnrType', 'MasVnrArea', 'ExterQual', 'ExterCond', 'Foundation', 'BsmtQual', 'BsmtCond', 'BsmtExposure', 'BsmtFinType1', 'BsmtFinSF1', 'BsmtFinType2', 'BsmtFinSF2', 'BsmtUnfSF', 'TotalBsmtSF', 'Heating', 'HeatingQC', 'CentralAir', 'Electrical', '1stFlrSF', '2ndFlrSF', 'LowQualFinSF', 'GrLivArea', 'BsmtFullBath', 'BsmtHalfBath', 'FullBath', 'HalfBath', 'BedroomAbvGr', 'KitchenAbvGr', 'KitchenQual', 'TotRmsAbvGrd', 'Functional', 'Fireplaces', 'FireplaceQu', 'GarageType', 'GarageYrBlt', 'GarageFinish', 'GarageCars', 'GarageArea', 'GarageQual', 'GarageCond', 'PavedDrive', 'WoodDeckSF', 'OpenPorchSF', 'EnclosedPorch', '3SsnPorch', 'ScreenPorch', 'PoolArea', 'PoolQC', 'Fence', 'MiscFeature', 'MiscVal', 'MoSold', 'YrSold', 'SaleType', 'SaleCondition', 'SalePrice')\n",
      "[(1, 60, 'RL', '65',  8450, 'Pave', 'NA', 'Reg', 'Lvl', 'AllPub', 'Inside', 'Gtl', 'CollgCr', 'Norm', 'Norm', '1Fam', '2Story', 7, 5, 2003, 2003, 'Gable', 'CompShg', 'VinylSd', 'VinylSd', 'BrkFace', '196', 'Gd', 'TA', 'PConc', 'Gd', 'TA', 'No', 'GLQ', 706, 'Unf', 0, 150,  856, 'GasA', 'Ex', 'Y', 'SBrkr',  856,  854, 0, 1710, 1, 0, 2, 1, 3, 1, 'Gd', 8, 'Typ', 0, 'NA', 'Attchd', '2003', 'RFn', 2, 548, 'TA', 'TA', 'Y',   0, 61,   0, 0, 0, 0, 'NA', 'NA', 'NA', 0,  2, 2008, 'WD', 'Normal', 208500)\n",
      " (2, 20, 'RL', '80',  9600, 'Pave', 'NA', 'Reg', 'Lvl', 'AllPub', 'FR2', 'Gtl', 'Veenker', 'Feedr', 'Norm', '1Fam', '1Story', 6, 8, 1976, 1976, 'Gable', 'CompShg', 'MetalSd', 'MetalSd', 'None', '0', 'TA', 'TA', 'CBlock', 'Gd', 'TA', 'Gd', 'ALQ', 978, 'Unf', 0, 284, 1262, 'GasA', 'Ex', 'Y', 'SBrkr', 1262,    0, 0, 1262, 0, 1, 2, 0, 3, 1, 'TA', 6, 'Typ', 1, 'TA', 'Attchd', '1976', 'RFn', 2, 460, 'TA', 'TA', 'Y', 298,  0,   0, 0, 0, 0, 'NA', 'NA', 'NA', 0,  5, 2007, 'WD', 'Normal', 181500)\n",
      " (3, 60, 'RL', '68', 11250, 'Pave', 'NA', 'IR1', 'Lvl', 'AllPub', 'Inside', 'Gtl', 'CollgCr', 'Norm', 'Norm', '1Fam', '2Story', 7, 5, 2001, 2002, 'Gable', 'CompShg', 'VinylSd', 'VinylSd', 'BrkFace', '162', 'Gd', 'TA', 'PConc', 'Gd', 'TA', 'Mn', 'GLQ', 486, 'Unf', 0, 434,  920, 'GasA', 'Ex', 'Y', 'SBrkr',  920,  866, 0, 1786, 1, 0, 2, 1, 3, 1, 'Gd', 6, 'Typ', 1, 'TA', 'Attchd', '2001', 'RFn', 2, 608, 'TA', 'TA', 'Y',   0, 42,   0, 0, 0, 0, 'NA', 'NA', 'NA', 0,  9, 2008, 'WD', 'Normal', 223500)\n",
      " (4, 70, 'RL', '60',  9550, 'Pave', 'NA', 'IR1', 'Lvl', 'AllPub', 'Corner', 'Gtl', 'Crawfor', 'Norm', 'Norm', '1Fam', '2Story', 7, 5, 1915, 1970, 'Gable', 'CompShg', 'Wd Sdng', 'Wd Shng', 'None', '0', 'TA', 'TA', 'BrkTil', 'TA', 'Gd', 'No', 'ALQ', 216, 'Unf', 0, 540,  756, 'GasA', 'Gd', 'Y', 'SBrkr',  961,  756, 0, 1717, 1, 0, 1, 0, 3, 1, 'Gd', 7, 'Typ', 1, 'Gd', 'Detchd', '1998', 'Unf', 3, 642, 'TA', 'TA', 'Y',   0, 35, 272, 0, 0, 0, 'NA', 'NA', 'NA', 0,  2, 2006, 'WD', 'Abnorml', 140000)\n",
      " (5, 60, 'RL', '84', 14260, 'Pave', 'NA', 'IR1', 'Lvl', 'AllPub', 'FR2', 'Gtl', 'NoRidge', 'Norm', 'Norm', '1Fam', '2Story', 8, 5, 2000, 2000, 'Gable', 'CompShg', 'VinylSd', 'VinylSd', 'BrkFace', '350', 'Gd', 'TA', 'PConc', 'Gd', 'TA', 'Av', 'GLQ', 655, 'Unf', 0, 490, 1145, 'GasA', 'Ex', 'Y', 'SBrkr', 1145, 1053, 0, 2198, 1, 0, 2, 1, 4, 1, 'Gd', 9, 'Typ', 1, 'TA', 'Attchd', '2000', 'RFn', 3, 836, 'TA', 'TA', 'Y', 192, 84,   0, 0, 0, 0, 'NA', 'NA', 'NA', 0, 12, 2008, 'WD', 'Normal', 250000)]\n"
     ]
    }
   ],
   "source": [
    "# Load the CSV file\n",
    "data = np.genfromtxt('Data/train.csv', delimiter=',', dtype=None, encoding='utf-8', names=True)\n",
    "\n",
    "# Get column names\n",
    "print(\"Columns:\", data.dtype.names)\n",
    "\n",
    "# Display the first few rows\n",
    "print(data[:5])\n"
   ]
  },
  {
   "cell_type": "code",
   "execution_count": 89,
   "id": "6d25b298-a648-410e-97ce-aa69d5988fc8",
   "metadata": {},
   "outputs": [
    {
     "name": "stdout",
     "output_type": "stream",
     "text": [
      "Shape: (1460,)\n",
      "Data Types:\n",
      "Id: int32\n",
      "MSSubClass: int32\n",
      "MSZoning: <U7\n",
      "LotFrontage: <U3\n",
      "LotArea: int32\n",
      "Street: <U4\n",
      "Alley: <U4\n",
      "LotShape: <U3\n",
      "LandContour: <U3\n",
      "Utilities: <U6\n",
      "LotConfig: <U7\n",
      "LandSlope: <U3\n",
      "Neighborhood: <U7\n",
      "Condition1: <U6\n",
      "Condition2: <U6\n",
      "BldgType: <U6\n",
      "HouseStyle: <U6\n",
      "OverallQual: int32\n",
      "OverallCond: int32\n",
      "YearBuilt: int32\n",
      "YearRemodAdd: int32\n",
      "RoofStyle: <U7\n",
      "RoofMatl: <U7\n",
      "Exterior1st: <U7\n",
      "Exterior2nd: <U7\n",
      "MasVnrType: <U7\n",
      "MasVnrArea: <U4\n",
      "ExterQual: <U2\n",
      "ExterCond: <U2\n",
      "Foundation: <U6\n",
      "BsmtQual: <U2\n",
      "BsmtCond: <U2\n",
      "BsmtExposure: <U2\n",
      "BsmtFinType1: <U3\n",
      "BsmtFinSF1: int32\n",
      "BsmtFinType2: <U3\n",
      "BsmtFinSF2: int32\n",
      "BsmtUnfSF: int32\n",
      "TotalBsmtSF: int32\n",
      "Heating: <U5\n",
      "HeatingQC: <U2\n",
      "CentralAir: <U1\n",
      "Electrical: <U5\n",
      "1stFlrSF: int32\n",
      "2ndFlrSF: int32\n",
      "LowQualFinSF: int32\n",
      "GrLivArea: int32\n",
      "BsmtFullBath: int32\n",
      "BsmtHalfBath: int32\n",
      "FullBath: int32\n",
      "HalfBath: int32\n",
      "BedroomAbvGr: int32\n",
      "KitchenAbvGr: int32\n",
      "KitchenQual: <U2\n",
      "TotRmsAbvGrd: int32\n",
      "Functional: <U4\n",
      "Fireplaces: int32\n",
      "FireplaceQu: <U2\n",
      "GarageType: <U7\n",
      "GarageYrBlt: <U4\n",
      "GarageFinish: <U3\n",
      "GarageCars: int32\n",
      "GarageArea: int32\n",
      "GarageQual: <U2\n",
      "GarageCond: <U2\n",
      "PavedDrive: <U1\n",
      "WoodDeckSF: int32\n",
      "OpenPorchSF: int32\n",
      "EnclosedPorch: int32\n",
      "3SsnPorch: int32\n",
      "ScreenPorch: int32\n",
      "PoolArea: int32\n",
      "PoolQC: <U2\n",
      "Fence: <U5\n",
      "MiscFeature: <U4\n",
      "MiscVal: int32\n",
      "MoSold: int32\n",
      "YrSold: int32\n",
      "SaleType: <U5\n",
      "SaleCondition: <U7\n",
      "SalePrice: int32\n"
     ]
    }
   ],
   "source": [
    "print(\"Shape:\", data.shape)\n",
    "print(\"Data Types:\")\n",
    "for name in data.dtype.names:\n",
    "    print(f\"{name}: {data[name].dtype}\")\n"
   ]
  },
  {
   "cell_type": "code",
   "execution_count": 90,
   "id": "9684b9cd-40d4-423e-9457-156c5ea3ee38",
   "metadata": {},
   "outputs": [
    {
     "name": "stdout",
     "output_type": "stream",
     "text": [
      "Id: 0 missing values\n",
      "MSSubClass: 0 missing values\n",
      "MSZoning: 0 missing values\n",
      "LotFrontage: 259 missing values\n",
      "LotArea: 0 missing values\n",
      "Street: 0 missing values\n",
      "Alley: 1369 missing values\n",
      "LotShape: 0 missing values\n",
      "LandContour: 0 missing values\n",
      "Utilities: 0 missing values\n",
      "LotConfig: 0 missing values\n",
      "LandSlope: 0 missing values\n",
      "Neighborhood: 0 missing values\n",
      "Condition1: 0 missing values\n",
      "Condition2: 0 missing values\n",
      "BldgType: 0 missing values\n",
      "HouseStyle: 0 missing values\n",
      "OverallQual: 0 missing values\n",
      "OverallCond: 0 missing values\n",
      "YearBuilt: 0 missing values\n",
      "YearRemodAdd: 0 missing values\n",
      "RoofStyle: 0 missing values\n",
      "RoofMatl: 0 missing values\n",
      "Exterior1st: 0 missing values\n",
      "Exterior2nd: 0 missing values\n",
      "MasVnrType: 8 missing values\n",
      "MasVnrArea: 8 missing values\n",
      "ExterQual: 0 missing values\n",
      "ExterCond: 0 missing values\n",
      "Foundation: 0 missing values\n",
      "BsmtQual: 37 missing values\n",
      "BsmtCond: 37 missing values\n",
      "BsmtExposure: 38 missing values\n",
      "BsmtFinType1: 37 missing values\n",
      "BsmtFinSF1: 0 missing values\n",
      "BsmtFinType2: 38 missing values\n",
      "BsmtFinSF2: 0 missing values\n",
      "BsmtUnfSF: 0 missing values\n",
      "TotalBsmtSF: 0 missing values\n",
      "Heating: 0 missing values\n",
      "HeatingQC: 0 missing values\n",
      "CentralAir: 0 missing values\n",
      "Electrical: 1 missing values\n",
      "1stFlrSF: 0 missing values\n",
      "2ndFlrSF: 0 missing values\n",
      "LowQualFinSF: 0 missing values\n",
      "GrLivArea: 0 missing values\n",
      "BsmtFullBath: 0 missing values\n",
      "BsmtHalfBath: 0 missing values\n",
      "FullBath: 0 missing values\n",
      "HalfBath: 0 missing values\n",
      "BedroomAbvGr: 0 missing values\n",
      "KitchenAbvGr: 0 missing values\n",
      "KitchenQual: 0 missing values\n",
      "TotRmsAbvGrd: 0 missing values\n",
      "Functional: 0 missing values\n",
      "Fireplaces: 0 missing values\n",
      "FireplaceQu: 690 missing values\n",
      "GarageType: 81 missing values\n",
      "GarageYrBlt: 81 missing values\n",
      "GarageFinish: 81 missing values\n",
      "GarageCars: 0 missing values\n",
      "GarageArea: 0 missing values\n",
      "GarageQual: 81 missing values\n",
      "GarageCond: 81 missing values\n",
      "PavedDrive: 0 missing values\n",
      "WoodDeckSF: 0 missing values\n",
      "OpenPorchSF: 0 missing values\n",
      "EnclosedPorch: 0 missing values\n",
      "3SsnPorch: 0 missing values\n",
      "ScreenPorch: 0 missing values\n",
      "PoolArea: 0 missing values\n",
      "PoolQC: 1453 missing values\n",
      "Fence: 1179 missing values\n",
      "MiscFeature: 1406 missing values\n",
      "MiscVal: 0 missing values\n",
      "MoSold: 0 missing values\n",
      "YrSold: 0 missing values\n",
      "SaleType: 0 missing values\n",
      "SaleCondition: 0 missing values\n",
      "SalePrice: 0 missing values\n"
     ]
    }
   ],
   "source": [
    "for col in data.dtype.names:\n",
    "    column_data = data[col]\n",
    "\n",
    "    if np.issubdtype(column_data.dtype, np.number):\n",
    "        num_missing = np.sum(np.isnan(column_data))\n",
    "    else:\n",
    "        # Check for empty strings OR 'NA' strings\n",
    "        num_missing = np.sum((column_data == '') | (column_data == 'NA'))\n",
    "    \n",
    "    print(f\"{col}: {num_missing} missing values\")"
   ]
  },
  {
   "cell_type": "code",
   "execution_count": 91,
   "id": "4bdf9ea8-2ab7-472c-b143-db8521bd36be",
   "metadata": {},
   "outputs": [],
   "source": [
    "def impute_with_mode(column):\n",
    "    values, counts = np.unique(column[column != 'NA'], return_counts=True)\n",
    "    mode_val = values[np.argmax(counts)]\n",
    "    return np.where(column == 'NA', mode_val, column)\n",
    "\n",
    "# Example for categorical columns\n",
    "for col in data.dtype.names:\n",
    "    if data[col].dtype.kind in {'U', 'S'}:\n",
    "        data[col] = impute_with_mode(data[col])\n"
   ]
  },
  {
   "cell_type": "code",
   "execution_count": 92,
   "id": "d98de319-cb55-4183-a3d5-f196f1285e0d",
   "metadata": {},
   "outputs": [],
   "source": [
    "def impute_with_mean(column):\n",
    "    mean_val = np.nanmean(column)\n",
    "    return np.where(column == 'NA', mean_val, column)\n",
    "\n",
    "# Example for numeric columns\n",
    "for col in data.dtype.names:\n",
    "    if np.issubdtype(data[col].dtype, np.number):\n",
    "        data[col] = impute_with_mean(data[col])\n"
   ]
  },
  {
   "cell_type": "code",
   "execution_count": 93,
   "id": "771a0a69-99b2-43a7-82c2-e45229a0a518",
   "metadata": {},
   "outputs": [],
   "source": [
    "def one_hot_encode(column):\n",
    "    # Get unique classes\n",
    "    unique_vals = np.unique(column)\n",
    "    one_hot = np.zeros((column.shape[0], len(unique_vals)))\n",
    "\n",
    "    for i, val in enumerate(column):\n",
    "        col_index = np.where(unique_vals == val)[0][0]\n",
    "        one_hot[i, col_index] = 1\n",
    "\n",
    "    return one_hot, unique_vals\n"
   ]
  },
  {
   "cell_type": "code",
   "execution_count": 94,
   "id": "53ad540e-446d-46b6-b743-9e4bf45f22f3",
   "metadata": {},
   "outputs": [],
   "source": [
    "categorical_cols = [col for col in data.dtype.names if data[col].dtype.kind in {'U', 'S'}]\n",
    "\n",
    "one_hot_features = []\n",
    "for col in categorical_cols:\n",
    "    if len(np.unique(data[col])) <3:\n",
    "        onehot, labels = one_hot_encode(data[col])\n",
    "        one_hot_features.append(onehot)\n",
    "\n",
    "# Combine all encoded features into one matrix\n",
    "X_categorical = np.hstack(one_hot_features)\n"
   ]
  },
  {
   "cell_type": "code",
   "execution_count": 95,
   "id": "3c571a12-15bd-43ff-b0c0-1b61e4e6cdfa",
   "metadata": {},
   "outputs": [
    {
     "name": "stdout",
     "output_type": "stream",
     "text": [
      "Id: correlation with Survived = -0.0219\n",
      "MSSubClass: correlation with Survived = -0.0843\n",
      "LotArea: correlation with Survived = 0.2638\n",
      "OverallQual: correlation with Survived = 0.7910\n",
      "OverallCond: correlation with Survived = -0.0779\n",
      "YearBuilt: correlation with Survived = 0.5229\n",
      "YearRemodAdd: correlation with Survived = 0.5071\n",
      "BsmtFinSF1: correlation with Survived = 0.3864\n",
      "BsmtFinSF2: correlation with Survived = -0.0114\n",
      "BsmtUnfSF: correlation with Survived = 0.2145\n",
      "TotalBsmtSF: correlation with Survived = 0.6136\n",
      "1stFlrSF: correlation with Survived = 0.6059\n",
      "2ndFlrSF: correlation with Survived = 0.3193\n",
      "LowQualFinSF: correlation with Survived = -0.0256\n",
      "GrLivArea: correlation with Survived = 0.7086\n",
      "BsmtFullBath: correlation with Survived = 0.2271\n",
      "BsmtHalfBath: correlation with Survived = -0.0168\n",
      "FullBath: correlation with Survived = 0.5607\n",
      "HalfBath: correlation with Survived = 0.2841\n",
      "BedroomAbvGr: correlation with Survived = 0.1682\n",
      "KitchenAbvGr: correlation with Survived = -0.1359\n",
      "TotRmsAbvGrd: correlation with Survived = 0.5337\n",
      "Fireplaces: correlation with Survived = 0.4669\n",
      "GarageCars: correlation with Survived = 0.6404\n",
      "GarageArea: correlation with Survived = 0.6234\n",
      "WoodDeckSF: correlation with Survived = 0.3244\n",
      "OpenPorchSF: correlation with Survived = 0.3159\n",
      "EnclosedPorch: correlation with Survived = -0.1286\n",
      "3SsnPorch: correlation with Survived = 0.0446\n",
      "ScreenPorch: correlation with Survived = 0.1114\n",
      "PoolArea: correlation with Survived = 0.0924\n",
      "MiscVal: correlation with Survived = -0.0212\n",
      "MoSold: correlation with Survived = 0.0464\n",
      "YrSold: correlation with Survived = -0.0289\n",
      "Selected features: ['OverallQual', 'YearBuilt', 'YearRemodAdd', 'TotalBsmtSF', '1stFlrSF', 'GrLivArea', 'FullBath', 'TotRmsAbvGrd', 'GarageCars', 'GarageArea']\n"
     ]
    }
   ],
   "source": [
    "def correlation(x, y):\n",
    "    x_mean = np.mean(x)\n",
    "    y_mean = np.mean(y)\n",
    "    \n",
    "    numerator = np.sum((x - x_mean) * (y - y_mean))\n",
    "    denominator = np.sqrt(np.sum((x - x_mean)**2)) * np.sqrt(np.sum((y - y_mean)**2))\n",
    "    \n",
    "    return numerator / denominator if denominator != 0 else 0\n",
    "    \n",
    "# Select numeric features only\n",
    "numeric_cols = [col for col in data.dtype.names \n",
    "                if np.issubdtype(data[col].dtype, np.number) and col != 'SalePrice']\n",
    "\n",
    "def normalize(col):\n",
    "    return (col - np.mean(col)) / np.std(col)\n",
    "\n",
    "data = {col: normalize(data[col]) for col in numeric_cols + ['SalePrice'] }\n",
    "\n",
    "target = data['SalePrice']\n",
    "\n",
    "correlations = {}\n",
    "for col in numeric_cols:\n",
    "    corr = correlation(data[col], target)\n",
    "    correlations[col] = corr\n",
    "\n",
    "# Display\n",
    "for col, corr in correlations.items():\n",
    "    print(f\"{col}: correlation with Survived = {corr:.4f}\")\n",
    "\n",
    "threshold = 0.5\n",
    "selected_features = [col for col, corr in correlations.items() if abs(corr) > threshold]\n",
    "\n",
    "print(\"Selected features:\", selected_features)\n"
   ]
  },
  {
   "cell_type": "code",
   "execution_count": 96,
   "id": "97c9dc8b-7194-43af-97cd-07c1438f2cb1",
   "metadata": {},
   "outputs": [
    {
     "data": {
      "text/plain": [
       "10"
      ]
     },
     "execution_count": 96,
     "metadata": {},
     "output_type": "execute_result"
    }
   ],
   "source": [
    "len(selected_features)"
   ]
  },
  {
   "cell_type": "code",
   "execution_count": 97,
   "id": "32e60e7d-cc02-456a-b7f1-58985a62008c",
   "metadata": {},
   "outputs": [],
   "source": [
    "'''# Numeric columns (excluding target)\n",
    "numeric_cols = [col for col in data.dtype.names \n",
    "                if np.issubdtype(data[col].dtype, np.number) and col != 'SalePrice']'''\n",
    "\n",
    "X_numeric = np.column_stack([data[col] for col in selected_features])\n",
    "\n",
    "# Final feature matrix\n",
    "X = np.hstack([X_numeric, X_categorical])\n",
    "\n",
    "# Target variable\n",
    "y = data['SalePrice'].reshape(-1, 1)\n"
   ]
  },
  {
   "cell_type": "code",
   "execution_count": 98,
   "id": "0a591889-c4e1-45d4-bf64-9ff0b3644d1a",
   "metadata": {},
   "outputs": [
    {
     "data": {
      "text/plain": [
       "(1460, 18)"
      ]
     },
     "execution_count": 98,
     "metadata": {},
     "output_type": "execute_result"
    }
   ],
   "source": [
    "X.shape"
   ]
  },
  {
   "cell_type": "code",
   "execution_count": null,
   "id": "1b4c09ca-ac3c-424a-bc00-675e95f21db5",
   "metadata": {},
   "outputs": [],
   "source": []
  },
  {
   "cell_type": "code",
   "execution_count": 99,
   "id": "fcabda69-e755-4420-8720-bdd140f045d3",
   "metadata": {},
   "outputs": [
    {
     "name": "stdout",
     "output_type": "stream",
     "text": [
      "Accuracy: 0.0\n"
     ]
    }
   ],
   "source": [
    "# Add intercept\n",
    "X = np.hstack((np.ones((X.shape[0], 1)), X))\n",
    "\n",
    "# Theta = (X^T X)^-1 X^T y\n",
    "theta = np.linalg.inv(X.T @ X) @ X.T @ y\n",
    "\n",
    "# Predict\n",
    "y_pred = X @ theta\n",
    "\n",
    "\n",
    "# Accuracy\n",
    "accuracy = np.mean(y_pred == y)\n",
    "print(\"Accuracy:\", accuracy)\n"
   ]
  },
  {
   "cell_type": "code",
   "execution_count": 100,
   "id": "ccf6bddd-b40d-49bd-97bb-c496fe074c9d",
   "metadata": {},
   "outputs": [
    {
     "data": {
      "text/plain": [
       "(array([[-1.09375 ],\n",
       "        [-1.640625],\n",
       "        [-0.953125],\n",
       "        ...,\n",
       "        [-0.953125],\n",
       "        [-2.1875  ],\n",
       "        [-2.09375 ]]),\n",
       " array([[ 0.34727322],\n",
       "        [ 0.00728832],\n",
       "        [ 0.53615372],\n",
       "        ...,\n",
       "        [ 1.07761115],\n",
       "        [-0.48852299],\n",
       "        [-0.42084081]]))"
      ]
     },
     "execution_count": 100,
     "metadata": {},
     "output_type": "execute_result"
    }
   ],
   "source": [
    "y_pred, y"
   ]
  },
  {
   "cell_type": "code",
   "execution_count": 101,
   "id": "fb4308ef-d619-4c8b-bbcd-6ac474d5d29b",
   "metadata": {},
   "outputs": [],
   "source": [
    "def MAPE(y, y_pred):\n",
    "    mape = 0\n",
    "    for i in range(len(y)):\n",
    "        mape= mape + abs((y[i]-y_pred[i])/y[i])\n",
    "    mape= mape *100/len(data)\n",
    "    return mape"
   ]
  },
  {
   "cell_type": "code",
   "execution_count": 102,
   "id": "d02d982d-3f01-47f6-8aec-43818e61390f",
   "metadata": {},
   "outputs": [
    {
     "data": {
      "text/plain": [
       "array([58261.93558088])"
      ]
     },
     "execution_count": 102,
     "metadata": {},
     "output_type": "execute_result"
    }
   ],
   "source": [
    "MAPE(y, y_pred)"
   ]
  },
  {
   "cell_type": "code",
   "execution_count": 103,
   "id": "25830edf-6a69-4d1d-bf18-b24665fd9bc7",
   "metadata": {},
   "outputs": [],
   "source": [
    "def R_Square(data):\n",
    "    rss=0 # residual sum of square\n",
    "    tss=0 # total sum of square\n",
    "    avg= np.mean(data[:][0])\n",
    "    for i in range(len(data)):\n",
    "        rss= rss + np.square(data[i][0] - data[i][1])\n",
    "        tss= tss + np.square(data[i][0] - avg)\n",
    "    r_square= 1- (rss/tss)\n",
    "    return r_square"
   ]
  },
  {
   "cell_type": "code",
   "execution_count": 104,
   "id": "28eb118b-1c6a-4ebb-b2f7-0cd1a56ec308",
   "metadata": {},
   "outputs": [
    {
     "data": {
      "text/plain": [
       "array([0.68511971])"
      ]
     },
     "execution_count": 104,
     "metadata": {},
     "output_type": "execute_result"
    }
   ],
   "source": [
    "R_Square([y, y_pred])"
   ]
  },
  {
   "cell_type": "code",
   "execution_count": 107,
   "id": "db805f9f-1a32-4a1b-b21d-0b412792cab4",
   "metadata": {},
   "outputs": [],
   "source": [
    "def MSE(data):\n",
    "    mse=0\n",
    "    for i in range(len(data)):\n",
    "        mse=mse+ np.square(data[i][0]-data[i][1])\n",
    "    mse= mse/len(data)\n",
    "    return mse\n",
    "def RMSE(data):\n",
    "    mse= MSE(data)\n",
    "    rmse= np.sqrt(mse)\n",
    "    return rmse"
   ]
  },
  {
   "cell_type": "code",
   "execution_count": 108,
   "id": "b4cda84f-7fc4-4e50-82ce-9861f06f8651",
   "metadata": {},
   "outputs": [
    {
     "data": {
      "text/plain": [
       "array([0.45533614])"
      ]
     },
     "execution_count": 108,
     "metadata": {},
     "output_type": "execute_result"
    }
   ],
   "source": [
    "RMSE([y, y_pred])"
   ]
  },
  {
   "cell_type": "code",
   "execution_count": null,
   "id": "f06d90d4-bd65-4205-b572-771b97229735",
   "metadata": {},
   "outputs": [],
   "source": []
  }
 ],
 "metadata": {
  "kernelspec": {
   "display_name": "Python 3 (ipykernel)",
   "language": "python",
   "name": "python3"
  },
  "language_info": {
   "codemirror_mode": {
    "name": "ipython",
    "version": 3
   },
   "file_extension": ".py",
   "mimetype": "text/x-python",
   "name": "python",
   "nbconvert_exporter": "python",
   "pygments_lexer": "ipython3",
   "version": "3.9.21"
  }
 },
 "nbformat": 4,
 "nbformat_minor": 5
}
