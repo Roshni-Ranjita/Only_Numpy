{
 "cells": [
  {
   "cell_type": "code",
   "execution_count": 3,
   "id": "3575221f-70d5-4490-9eb6-b4292ad7b0a0",
   "metadata": {},
   "outputs": [],
   "source": [
    "import numpy as np"
   ]
  },
  {
   "cell_type": "code",
   "execution_count": 6,
   "id": "221e36cd-c25e-4f1e-b696-ce101fe1c9f7",
   "metadata": {},
   "outputs": [],
   "source": [
    "# Reading dataset using numpy\n",
    "data = np.loadtxt('Data/Random_regression.csv', delimiter=',', skiprows=1)"
   ]
  },
  {
   "cell_type": "markdown",
   "id": "431ec410-8cc1-41f1-9da8-8d30776bea66",
   "metadata": {},
   "source": [
    "### Summary Table of Regression Metrics\n",
    "\n",
    "| **Metric**     | **Penalizes Large Errors** | **Unit-based** | **Robust to Outliers** | **Good for % Errors** | **When to Avoid**                          |\n",
    "|----------------|----------------------------|----------------|------------------------|-----------------------|---------------------------------------------|\n",
    "| MAE            | No                         | Yes            | Yes                    | No                    | When large errors matter                    |\n",
    "| MSE            | Yes                        | No             | No                     | No                    | When error units matter                     |\n",
    "| RMSE           | Yes                        | Yes            | No                     | No                    | When outliers are extreme                   |\n",
    "| R²             | No                         | No             | No                     | No                    | Non-linear models                           |\n",
    "| Adjusted R²    | No                         | No             | No                     | No                    | Same as R² + fewer predictors               |\n",
    "| MAPE           | No                         | No             | No                     | Yes                   | Targets near zero                           |\n"
   ]
  },
  {
   "cell_type": "markdown",
   "id": "e5df3163-b06c-47c5-b155-8905a7ce3c69",
   "metadata": {},
   "source": [
    "# Checking the model performance"
   ]
  },
  {
   "cell_type": "markdown",
   "id": "6bda0166-1609-4de4-be8d-7b0fb622212e",
   "metadata": {},
   "source": [
    "## 1. Mean Absolute Error (MAE)\n",
    "\n",
    "**Equation:**\n",
    "$$\n",
    "\\text{MAE} = \\frac{1}{n} \\sum_{i=1}^{n} |y_i - \\hat{y}_i|\n",
    "$$\n",
    "\n",
    "**✅ When to Use:**\n",
    "- You need a simple average of absolute errors.\n",
    "- Outliers should have limited influence.\n",
    "\n",
    "**❌ When *Not* to Use:**\n",
    "- You want to penalize large errors more severely.\n",
    "\n",
    "**📌 Example:**  \n",
    "Predicting house prices where an average error of \\$10,000 is acceptable."
   ]
  },
  {
   "cell_type": "code",
   "execution_count": 7,
   "id": "8210bf7c-269c-4acd-9685-38195a136a4e",
   "metadata": {},
   "outputs": [],
   "source": [
    "def MAE(data):\n",
    "    mae=0\n",
    "    for i in range(len(data)):\n",
    "        mae=mae+ np.abs(data[i][0]-data[i][1])\n",
    "    mae= mae/len(data)\n",
    "    return mae"
   ]
  },
  {
   "cell_type": "markdown",
   "id": "4f42877e-bd9a-49ec-86ef-66f49002c731",
   "metadata": {},
   "source": [
    "## 2. Mean Squared Error (MSE)\n",
    "\n",
    "**Equation:**\n",
    "$$\n",
    "\\text{MSE} = \\frac{1}{n} \\sum_{i=1}^{n} (y_i - \\hat{y}_i)^2\n",
    "$$\n",
    "\n",
    "**✅ When to Use:**\n",
    "- During model training (sensitive to large errors).\n",
    "- Emphasizing large prediction errors.\n",
    "\n",
    "**❌ When *Not* to Use:**\n",
    "- When you need results in the same units as the target variable.\n",
    "\n",
    "**📌 Example:**  \n",
    "Used for optimizing models via gradient descent."
   ]
  },
  {
   "cell_type": "code",
   "execution_count": 11,
   "id": "2be085d5-28b2-4ac7-83b2-98bd21669768",
   "metadata": {},
   "outputs": [],
   "source": [
    "def MSE(data):\n",
    "    mse=0\n",
    "    for i in range(len(data)):\n",
    "        mse=mse+ np.square(data[i][0]-data[i][1])\n",
    "    mse= mse/len(data)\n",
    "    return mse"
   ]
  },
  {
   "cell_type": "markdown",
   "id": "807022f9-fa0d-45e9-b417-bc1c101a5268",
   "metadata": {},
   "source": [
    "## 3. Root Mean Squared Error (RMSE)\n",
    "\n",
    "**Equation:**\n",
    "$$\n",
    "\\text{RMSE} = \\sqrt{\\frac{1}{n} \\sum_{i=1}^{n} (y_i - \\hat{y}_i)^2}\n",
    "$$\n",
    "\n",
    "**✅ When to Use:**\n",
    "- You need an interpretable metric in the same unit as the output.\n",
    "- Large errors need to be penalized more.\n",
    "\n",
    "**❌ When *Not* to Use:**\n",
    "- In presence of many extreme outliers.\n",
    "\n",
    "**📌 Example:**  \n",
    "Forecasting temperatures in °C or °F."
   ]
  },
  {
   "cell_type": "code",
   "execution_count": 16,
   "id": "6b5b093d-0d6b-4bd1-af39-2ab12544d95e",
   "metadata": {},
   "outputs": [],
   "source": [
    "def RMSE(data):\n",
    "    mse= MSE(data)\n",
    "    rmse= np.sqrt(mse)\n",
    "    return rmse"
   ]
  },
  {
   "cell_type": "markdown",
   "id": "7a17d5a0-ea8d-4af8-ab76-96bba3216a3f",
   "metadata": {},
   "source": [
    "## 4. R-squared (R²)\n",
    "\n",
    "**Equation:**\n",
    "$$\n",
    "R^2 = 1 - \\frac{\\sum_{i=1}^{n}(y_i - \\hat{y}_i)^2}{\\sum_{i=1}^{n}(y_i - \\bar{y})^2}\n",
    "$$\n",
    "\n",
    "**✅ When to Use:**\n",
    "- To evaluate the proportion of variance explained.\n",
    "- Comparing models on the same dataset.\n",
    "\n",
    "**❌ When *Not* to Use:**\n",
    "- For non-linear models.\n",
    "- Comparing models across different datasets.\n",
    "\n",
    "**📌 Example:**  \n",
    "Evaluating how well education predicts income."
   ]
  },
  {
   "cell_type": "code",
   "execution_count": 22,
   "id": "5ad7bdc1-3198-474e-91e9-018b658ca9ca",
   "metadata": {},
   "outputs": [],
   "source": [
    "def R_Square(data):\n",
    "    rss=0 # residual sum of square\n",
    "    tss=0 # total sum of square\n",
    "    avg= np.mean(data[:][0])\n",
    "    for i in range(len(data)):\n",
    "        rss= rss + np.square(data[i][0] - data[i][1])\n",
    "        tss= tss + np.square(data[i][0] - avg)\n",
    "    r_square= 1- (rss/tss)\n",
    "    return r_square"
   ]
  },
  {
   "cell_type": "markdown",
   "id": "221d7806-1d8b-430c-825c-c171121a4e32",
   "metadata": {},
   "source": [
    "## 5. Adjusted R-squared\n",
    "\n",
    "**Equation:**\n",
    "$$\n",
    "\\text{Adjusted } R^2 = 1 - \\left( \\frac{(1 - R^2)(n - 1)}{n - k - 1} \\right)\n",
    "$$\n",
    "\n",
    "**✅ When to Use:**\n",
    "- Comparing models with different numbers of predictors.\n",
    "- To avoid overfitting.\n",
    "\n",
    "**❌ When *Not* to Use:**\n",
    "- Same limitations as R² (assumes linearity).\n",
    "\n",
    "**📌 Example:**  \n",
    "Choosing between models with different feature sets in linear regression."
   ]
  },
  {
   "cell_type": "code",
   "execution_count": 30,
   "id": "e46d9d17-ea65-4359-a3be-713b9945bca9",
   "metadata": {},
   "outputs": [],
   "source": [
    "def Adj_R_Square(data, k):\n",
    "    r_square= R_Square(data)\n",
    "    n= len(data)\n",
    "    adj_r_square= 1- ((1-r_square)*(n-1)/(n-k-1))\n",
    "    return adj_r_square"
   ]
  },
  {
   "cell_type": "markdown",
   "id": "533f50bf-9ff3-45d9-ae58-1c28fa1a36c6",
   "metadata": {},
   "source": [
    "Mean Absolute Percentage Error (MAPE)\n",
    "\n",
    "**Equation:**\n",
    "$$\n",
    "\\text{MAPE} = \\frac{100\\%}{n} \\sum_{i=1}^{n} \\left| \\frac{y_i - \\hat{y}_i}{y_i} \\right|\n",
    "$$\n",
    "\n",
    "**✅ When to Use:**\n",
    "- You need errors as percentages.\n",
    "- Targets are not zero or near-zero.\n",
    "\n",
    "**❌ When *Not* to Use:**\n",
    "- Target values can be zero (division by zero issue).\n",
    "\n",
    "**📌 Example:**  \n",
    "Forecasting monthly sales in percentage terms."
   ]
  },
  {
   "cell_type": "code",
   "execution_count": 24,
   "id": "2c6d4c6c-83dd-4374-95d4-850c04f4e399",
   "metadata": {},
   "outputs": [],
   "source": [
    "def MAPE(data):\n",
    "    avg = np.mean(data[:][0])\n",
    "    mape = 0\n",
    "    for i in range(len(data)):\n",
    "        mape= mape + abs((data[i][0]-avg)/data[i][0])\n",
    "    mape= mape *100/len(data)\n",
    "    return mape"
   ]
  },
  {
   "cell_type": "code",
   "execution_count": null,
   "id": "fcad6d0b-e225-4d42-af93-abca6cdfb8b8",
   "metadata": {},
   "outputs": [],
   "source": []
  }
 ],
 "metadata": {
  "kernelspec": {
   "display_name": "Python 3 (ipykernel)",
   "language": "python",
   "name": "python3"
  },
  "language_info": {
   "codemirror_mode": {
    "name": "ipython",
    "version": 3
   },
   "file_extension": ".py",
   "mimetype": "text/x-python",
   "name": "python",
   "nbconvert_exporter": "python",
   "pygments_lexer": "ipython3",
   "version": "3.9.21"
  }
 },
 "nbformat": 4,
 "nbformat_minor": 5
}
